{
 "cells": [
  {
   "cell_type": "code",
   "execution_count": null,
   "id": "8d13616d",
   "metadata": {},
   "outputs": [],
   "source": [
    "import getpass\n",
    "#import os"
   ]
  },
  {
   "cell_type": "code",
   "execution_count": null,
   "id": "42afac11",
   "metadata": {},
   "outputs": [],
   "source": [
    "#from langchain_community.graphs import Neo4jGraph\n",
    "\n",
    "# os.environ[\"NEO4J_URI\"] = \"bolt://localhost:7687\"\n",
    "# os.environ[\"NEO4J_USERNAME\"] = \"neo4j\"\n",
    "# os.environ[\"NEO4J_PASSWORD\"] = \"password\"\n",
    "\n",
    "# graph = Neo4jGraph()"
   ]
  },
  {
   "cell_type": "code",
   "execution_count": null,
   "id": "ffa1d724",
   "metadata": {},
   "outputs": [],
   "source": [
    "from langchain_experimental.graph_transformers import LLMGraphTransformer\n",
    "from langchain.llms import Ollama\n",
    "from langchain_core.documents import Document\n",
    "#from transformers import AutoTokenizer, AutoModelForCausalLM, pipeline\n",
    "\n",
    "# Initialize Ollama LLM\n",
    "llm = Ollama(model=\"mistral:7b-instruct-q4_K_M\", base_url=\"http://localhost:11434\")\n",
    "\n",
    "#mistral:7b-instruct-q4_K_M\n",
    "#llama3.3:70b-instruct-q4_K_M\n",
    "\n",
    "# Initialize Graph Transformer with Ollama LLM\n",
    "llm_transformer = LLMGraphTransformer(llm=llm)"
   ]
  },
  {
   "cell_type": "code",
   "execution_count": null,
   "id": "6d9babbe",
   "metadata": {},
   "outputs": [],
   "source": [
    "text = \"\"\"\n",
    "Marie Curie, born in 1867, was a Polish and naturalised-French physicist and chemist who conducted pioneering research on radioactivity.\n",
    "She was the first woman to win a Nobel Prize, the first person to win a Nobel Prize twice, and the only person to win a Nobel Prize in two scientific fields.\n",
    "Her husband, Pierre Curie, was a co-winner of her first Nobel Prize, making them the first-ever married couple to win the Nobel Prize and launching the Curie family legacy of five Nobel Prizes.\n",
    "She was, in 1906, the first woman to become a professor at the University of Paris.\n",
    "\"\"\"\n",
    "documents = [Document(page_content=text)]\n",
    "graph_documents = llm_transformer.convert_to_graph_documents(documents)\n",
    "print(f\"Nodes:{graph_documents[0].nodes}\")\n",
    "print(f\"Relationships:{graph_documents[0].relationships}\")"
   ]
  },
  {
   "cell_type": "code",
   "execution_count": null,
   "id": "ae72451b",
   "metadata": {
    "scrolled": true
   },
   "outputs": [],
   "source": [
    "from pyvis.network import Network\n",
    "\n",
    "# Initialize the interactive network\n",
    "net = Network(notebook=True, height=\"750px\", width=\"100%\")\n",
    "\n",
    "# Add nodes\n",
    "for node in graph_documents[0].nodes:\n",
    "    net.add_node(node.id, label=node.id)\n",
    "\n",
    "# Add edges\n",
    "for rel in graph_documents[0].relationships:\n",
    "    net.add_edge(rel.source.id, rel.target.id, label=rel.type)\n",
    "\n",
    "# Display the graph\n",
    "net.show(\"knowledge_graph.html\")"
   ]
  },
  {
   "cell_type": "code",
   "execution_count": null,
   "id": "e7540c37",
   "metadata": {},
   "outputs": [],
   "source": [
    "#graph.add_graph_documents(graph_documents, baseEntityLabel=True)"
   ]
  },
  {
   "cell_type": "code",
   "execution_count": null,
   "id": "8cd64a52",
   "metadata": {},
   "outputs": [],
   "source": [
    "# llm_transformer_filtered = LLMGraphTransformer(\n",
    "#     llm=llm,\n",
    "#     allowed_nodes=[\"Person\", \"Country\", \"Organization\"],\n",
    "#     allowed_relationships=[\"NATIONALITY\", \"LOCATED_IN\", \"WORKED_AT\", \"SPOUSE\"],\n",
    "# )\n",
    "# graph_documents_filtered = llm_transformer_filtered.convert_to_graph_documents(\n",
    "#     documents\n",
    "# )\n",
    "# print(f\"Nodes:{graph_documents_filtered[0].nodes}\")\n",
    "# print(f\"Relationships:{graph_documents_filtered[0].relationships}\")"
   ]
  },
  {
   "cell_type": "code",
   "execution_count": null,
   "id": "7917d94e",
   "metadata": {
    "scrolled": true
   },
   "outputs": [],
   "source": [
    "# from pyvis.network import Network\n",
    "\n",
    "# # Initialize the interactive network\n",
    "# net = Network(notebook=True, height=\"750px\", width=\"100%\")\n",
    "\n",
    "# # Add nodes\n",
    "# for node in graph_documents_filtered[0].nodes:\n",
    "#     net.add_node(node.id, label=node.id)\n",
    "\n",
    "# # Add edges\n",
    "# for rel in graph_documents_filtered[0].relationships:\n",
    "#     net.add_edge(rel.source.id, rel.target.id, label=rel.type)\n",
    "\n",
    "# # Display the graph\n",
    "# net.show(\"knowledge_graph.html\")"
   ]
  },
  {
   "cell_type": "code",
   "execution_count": null,
   "id": "1129f298",
   "metadata": {},
   "outputs": [],
   "source": [
    "# llm_transformer_props = LLMGraphTransformer(\n",
    "#     llm=llm,\n",
    "#     allowed_nodes=[\"Person\", \"Country\", \"Organization\"],\n",
    "#     allowed_relationships=[\"NATIONALITY\", \"LOCATED_IN\", \"WORKED_AT\", \"SPOUSE\"],\n",
    "#     node_properties=[\"born_year\"],\n",
    "# )\n",
    "# graph_documents_props = llm_transformer_props.convert_to_graph_documents(documents)\n",
    "# print(f\"Nodes:{graph_documents_props[0].nodes}\")\n",
    "# print(f\"Relationships:{graph_documents_props[0].relationships}\")"
   ]
  },
  {
   "cell_type": "code",
   "execution_count": null,
   "id": "6bb0b680",
   "metadata": {},
   "outputs": [],
   "source": [
    "# from pyvis.network import Network\n",
    "\n",
    "# # Initialize the interactive network\n",
    "# net = Network(notebook=True, height=\"750px\", width=\"100%\")\n",
    "\n",
    "# # Add nodes\n",
    "# for node in graph_documents_props[0].nodes:\n",
    "#     net.add_node(node.id, label=node.id)\n",
    "\n",
    "# # Add edges\n",
    "# for rel in graph_documents_props[0].relationships:\n",
    "#     net.add_edge(rel.source.id, rel.target.id, label=rel.type)\n",
    "\n",
    "# # Display the graph\n",
    "# net.show(\"knowledge_graph.html\")"
   ]
  }
 ],
 "metadata": {
  "kernelspec": {
   "display_name": "Python 3 (ipykernel)",
   "language": "python",
   "name": "python3"
  },
  "language_info": {
   "codemirror_mode": {
    "name": "ipython",
    "version": 3
   },
   "file_extension": ".py",
   "mimetype": "text/x-python",
   "name": "python",
   "nbconvert_exporter": "python",
   "pygments_lexer": "ipython3",
   "version": "3.13.1"
  }
 },
 "nbformat": 4,
 "nbformat_minor": 5
}
